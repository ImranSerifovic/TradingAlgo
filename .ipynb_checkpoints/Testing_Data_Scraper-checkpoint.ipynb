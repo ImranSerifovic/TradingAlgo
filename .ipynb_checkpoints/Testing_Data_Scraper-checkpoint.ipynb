{
 "cells": [
  {
   "cell_type": "code",
   "execution_count": 12,
   "id": "e8ca8b86",
   "metadata": {},
   "outputs": [
    {
     "name": "stdout",
     "output_type": "stream",
     "text": [
      "Requirement already satisfied: yfinance in /Users/imranserifovic/anaconda3/lib/python3.10/site-packages (0.2.65)\n",
      "Requirement already satisfied: pandas>=1.3.0 in /Users/imranserifovic/anaconda3/lib/python3.10/site-packages (from yfinance) (1.5.3)\n",
      "Requirement already satisfied: protobuf>=3.19.0 in /Users/imranserifovic/anaconda3/lib/python3.10/site-packages (from yfinance) (6.31.1)\n",
      "Requirement already satisfied: curl_cffi>=0.7 in /Users/imranserifovic/anaconda3/lib/python3.10/site-packages (from yfinance) (0.11.4)\n",
      "Requirement already satisfied: multitasking>=0.0.7 in /Users/imranserifovic/anaconda3/lib/python3.10/site-packages (from yfinance) (0.0.11)\n",
      "Requirement already satisfied: frozendict>=2.3.4 in /Users/imranserifovic/anaconda3/lib/python3.10/site-packages (from yfinance) (2.4.6)\n",
      "Requirement already satisfied: numpy>=1.16.5 in /Users/imranserifovic/anaconda3/lib/python3.10/site-packages (from yfinance) (1.23.5)\n",
      "Requirement already satisfied: peewee>=3.16.2 in /Users/imranserifovic/anaconda3/lib/python3.10/site-packages (from yfinance) (3.18.2)\n",
      "Requirement already satisfied: platformdirs>=2.0.0 in /Users/imranserifovic/anaconda3/lib/python3.10/site-packages (from yfinance) (2.5.2)\n",
      "Requirement already satisfied: requests>=2.31 in /Users/imranserifovic/anaconda3/lib/python3.10/site-packages (from yfinance) (2.32.4)\n",
      "Requirement already satisfied: websockets>=13.0 in /Users/imranserifovic/anaconda3/lib/python3.10/site-packages (from yfinance) (15.0.1)\n",
      "Requirement already satisfied: pytz>=2022.5 in /Users/imranserifovic/anaconda3/lib/python3.10/site-packages (from yfinance) (2022.7)\n",
      "Requirement already satisfied: beautifulsoup4>=4.11.1 in /Users/imranserifovic/anaconda3/lib/python3.10/site-packages (from yfinance) (4.11.1)\n",
      "Requirement already satisfied: soupsieve>1.2 in /Users/imranserifovic/anaconda3/lib/python3.10/site-packages (from beautifulsoup4>=4.11.1->yfinance) (2.3.2.post1)\n",
      "Requirement already satisfied: cffi>=1.12.0 in /Users/imranserifovic/anaconda3/lib/python3.10/site-packages (from curl_cffi>=0.7->yfinance) (1.15.1)\n",
      "Requirement already satisfied: certifi>=2024.2.2 in /Users/imranserifovic/anaconda3/lib/python3.10/site-packages (from curl_cffi>=0.7->yfinance) (2025.7.9)\n",
      "Requirement already satisfied: python-dateutil>=2.8.1 in /Users/imranserifovic/anaconda3/lib/python3.10/site-packages (from pandas>=1.3.0->yfinance) (2.8.2)\n",
      "Requirement already satisfied: idna<4,>=2.5 in /Users/imranserifovic/anaconda3/lib/python3.10/site-packages (from requests>=2.31->yfinance) (3.4)\n",
      "Requirement already satisfied: charset_normalizer<4,>=2 in /Users/imranserifovic/anaconda3/lib/python3.10/site-packages (from requests>=2.31->yfinance) (2.0.4)\n",
      "Requirement already satisfied: urllib3<3,>=1.21.1 in /Users/imranserifovic/anaconda3/lib/python3.10/site-packages (from requests>=2.31->yfinance) (1.26.14)\n",
      "Requirement already satisfied: pycparser in /Users/imranserifovic/anaconda3/lib/python3.10/site-packages (from cffi>=1.12.0->curl_cffi>=0.7->yfinance) (2.21)\n",
      "Requirement already satisfied: six>=1.5 in /Users/imranserifovic/anaconda3/lib/python3.10/site-packages (from python-dateutil>=2.8.1->pandas>=1.3.0->yfinance) (1.16.0)\n"
     ]
    }
   ],
   "source": [
    "!pip install yfinance"
   ]
  },
  {
   "cell_type": "code",
   "execution_count": 13,
   "id": "7c91d6b5",
   "metadata": {
    "scrolled": true
   },
   "outputs": [],
   "source": [
    "import pandas as pd\n",
    "import yfinance as yf\n",
    "from datetime import timedelta\n",
    "import re"
   ]
  },
  {
   "cell_type": "code",
   "execution_count": 27,
   "id": "46ca913b",
   "metadata": {},
   "outputs": [
    {
     "name": "stdout",
     "output_type": "stream",
     "text": [
      "Shape: (61, 7)\n"
     ]
    },
    {
     "data": {
      "text/html": [
       "<div>\n",
       "<style scoped>\n",
       "    .dataframe tbody tr th:only-of-type {\n",
       "        vertical-align: middle;\n",
       "    }\n",
       "\n",
       "    .dataframe tbody tr th {\n",
       "        vertical-align: top;\n",
       "    }\n",
       "\n",
       "    .dataframe thead th {\n",
       "        text-align: right;\n",
       "    }\n",
       "</style>\n",
       "<table border=\"1\" class=\"dataframe\">\n",
       "  <thead>\n",
       "    <tr style=\"text-align: right;\">\n",
       "      <th></th>\n",
       "      <th>ticker</th>\n",
       "      <th>cik</th>\n",
       "      <th>form</th>\n",
       "      <th>filingDate</th>\n",
       "      <th>url</th>\n",
       "      <th>keywords</th>\n",
       "      <th>summary</th>\n",
       "    </tr>\n",
       "  </thead>\n",
       "  <tbody>\n",
       "    <tr>\n",
       "      <th>0</th>\n",
       "      <td>STRD</td>\n",
       "      <td>1050446</td>\n",
       "      <td>8-K</td>\n",
       "      <td>2025-07-07</td>\n",
       "      <td>https://www.sec.gov/Archives/edgar/data/105044...</td>\n",
       "      <td>private placement</td>\n",
       "      <td>MicroStrategy Inc. filed an 8-K report on July...</td>\n",
       "    </tr>\n",
       "    <tr>\n",
       "      <th>1</th>\n",
       "      <td>STRD</td>\n",
       "      <td>1050446</td>\n",
       "      <td>8-K</td>\n",
       "      <td>2025-07-07</td>\n",
       "      <td>https://www.sec.gov/Archives/edgar/data/105044...</td>\n",
       "      <td>reverse stock split</td>\n",
       "      <td>MicroStrategy Inc. filed an 8-K reporting an a...</td>\n",
       "    </tr>\n",
       "    <tr>\n",
       "      <th>2</th>\n",
       "      <td>INO</td>\n",
       "      <td>1055726</td>\n",
       "      <td>8-K</td>\n",
       "      <td>2025-07-07</td>\n",
       "      <td>https://www.sec.gov/Archives/edgar/data/105572...</td>\n",
       "      <td>reverse stock split</td>\n",
       "      <td>Inovio Pharmaceuticals announced the entry int...</td>\n",
       "    </tr>\n",
       "    <tr>\n",
       "      <th>3</th>\n",
       "      <td>KFS</td>\n",
       "      <td>1072627</td>\n",
       "      <td>8-K</td>\n",
       "      <td>2025-07-07</td>\n",
       "      <td>https://www.sec.gov/Archives/edgar/data/107262...</td>\n",
       "      <td>acquired beneficial ownership</td>\n",
       "      <td>Kingsway Financial Services Inc. filed an 8-K ...</td>\n",
       "    </tr>\n",
       "    <tr>\n",
       "      <th>4</th>\n",
       "      <td>NaN</td>\n",
       "      <td>1307275</td>\n",
       "      <td>4</td>\n",
       "      <td>2025-07-07</td>\n",
       "      <td>https://www.sec.gov/Archives/edgar/data/130727...</td>\n",
       "      <td>reverse stock split</td>\n",
       "      <td>On July 3, 2025, Tsai Chen Lung, a director of...</td>\n",
       "    </tr>\n",
       "  </tbody>\n",
       "</table>\n",
       "</div>"
      ],
      "text/plain": [
       "  ticker      cik form filingDate  \\\n",
       "0   STRD  1050446  8-K 2025-07-07   \n",
       "1   STRD  1050446  8-K 2025-07-07   \n",
       "2    INO  1055726  8-K 2025-07-07   \n",
       "3    KFS  1072627  8-K 2025-07-07   \n",
       "4    NaN  1307275    4 2025-07-07   \n",
       "\n",
       "                                                 url  \\\n",
       "0  https://www.sec.gov/Archives/edgar/data/105044...   \n",
       "1  https://www.sec.gov/Archives/edgar/data/105044...   \n",
       "2  https://www.sec.gov/Archives/edgar/data/105572...   \n",
       "3  https://www.sec.gov/Archives/edgar/data/107262...   \n",
       "4  https://www.sec.gov/Archives/edgar/data/130727...   \n",
       "\n",
       "                        keywords  \\\n",
       "0              private placement   \n",
       "1            reverse stock split   \n",
       "2            reverse stock split   \n",
       "3  acquired beneficial ownership   \n",
       "4            reverse stock split   \n",
       "\n",
       "                                             summary  \n",
       "0  MicroStrategy Inc. filed an 8-K report on July...  \n",
       "1  MicroStrategy Inc. filed an 8-K reporting an a...  \n",
       "2  Inovio Pharmaceuticals announced the entry int...  \n",
       "3  Kingsway Financial Services Inc. filed an 8-K ...  \n",
       "4  On July 3, 2025, Tsai Chen Lung, a director of...  "
      ]
     },
     "metadata": {},
     "output_type": "display_data"
    },
    {
     "name": "stdout",
     "output_type": "stream",
     "text": [
      "<class 'pandas.core.frame.DataFrame'>\n",
      "RangeIndex: 61 entries, 0 to 60\n",
      "Data columns (total 7 columns):\n",
      " #   Column      Non-Null Count  Dtype         \n",
      "---  ------      --------------  -----         \n",
      " 0   ticker      45 non-null     object        \n",
      " 1   cik         61 non-null     int64         \n",
      " 2   form        61 non-null     object        \n",
      " 3   filingDate  61 non-null     datetime64[ns]\n",
      " 4   url         61 non-null     object        \n",
      " 5   keywords    61 non-null     object        \n",
      " 6   summary     61 non-null     object        \n",
      "dtypes: datetime64[ns](1), int64(1), object(5)\n",
      "memory usage: 3.5+ KB\n"
     ]
    }
   ],
   "source": [
    "df = pd.read_csv(\"Data/flagged_filings.csv\", parse_dates=[\"filingDate\"])\n",
    "print(\"Shape:\", df.shape)       # how many rows × columns\n",
    "display(df.head())              # peek at the first few rows\n",
    "df.info()   "
   ]
  },
  {
   "cell_type": "code",
   "execution_count": 38,
   "id": "48101d7e",
   "metadata": {},
   "outputs": [],
   "source": [
    "def get_price_changes(ticker, filing_date):\n",
    "    \"\"\"\n",
    "    Returns a Series of five features:\n",
    "      pct_1d, pct_3d, pct_before, volatility_before, volume_change\n",
    "    around the filing_date for the given ticker.\n",
    "    \"\"\"\n",
    "    # 1) Download 7 days before through 5 days after\n",
    "    start = filing_date - timedelta(days=7)\n",
    "    end   = filing_date + timedelta(days=5)\n",
    "    hist = yf.download(ticker, start=start, end=end, progress=False)\n",
    "\n",
    "    # 2) Normalize index to dates for matching\n",
    "    dates = [d.date() for d in hist.index]\n",
    "    if filing_date.date() not in dates:\n",
    "        # no data for that exact date\n",
    "        return pd.Series([None]*5,\n",
    "                         index=[\n",
    "                           \"pct_1d\",\"pct_3d\",\n",
    "                           \"pct_before\",\"volatility_before\",\"volume_change\"\n",
    "                         ])\n",
    "\n",
    "    idx = dates.index(filing_date.date())\n",
    "\n",
    "    # 3) Use .iloc for safe positional indexing\n",
    "    close_0    = hist[\"Close\"].iloc[idx]\n",
    "    close_1d   = hist[\"Close\"].iloc[idx+1] if idx+1 < len(hist) else None\n",
    "    close_3d   = hist[\"Close\"].iloc[idx+3] if idx+3 < len(hist) else None\n",
    "    close_prev = hist[\"Close\"].iloc[idx-1] if idx-1 >= 0 else None\n",
    "\n",
    "    # 4) Compute returns\n",
    "    pct_1d     = (close_1d - close_0) / close_0  if close_1d is not None else None\n",
    "    pct_3d     = (close_3d - close_0) / close_0  if close_3d is not None else None\n",
    "    pct_before = (close_0  - close_prev) / close_prev if close_prev is not None else None\n",
    "\n",
    "    \n",
    "    \n",
    "    vol_before = hist[\"Close\"].iloc[max(0, idx-5):idx].std()\n",
    "\n",
    "    try:\n",
    "        # Compute average volume over the 5 days before filing\n",
    "        avg_vol_prior = hist[\"Volume\"].iloc[max(0, idx-5):idx].mean()\n",
    "        # If it’s zero or NaN, bail out\n",
    "        if avg_vol_prior == 0 or pd.isna(avg_vol_prior):\n",
    "            volume_change = None\n",
    "        else:\n",
    "            volume_change = hist[\"Volume\"].iloc[idx] / avg_vol_prior\n",
    "    except Exception:\n",
    "        volume_change = None\n",
    "\n",
    "    # then return as before\n",
    "    return pd.Series(\n",
    "        [pct_1d, pct_3d, pct_before, vol_before, volume_change],\n",
    "        index=[\"pct_1d\",\"pct_3d\",\"pct_before\",\"volatility_before\",\"volume_change\"]\n",
    "    )"
   ]
  },
  {
   "cell_type": "code",
   "execution_count": 39,
   "id": "930416cd",
   "metadata": {},
   "outputs": [
    {
     "name": "stdout",
     "output_type": "stream",
     "text": [
      "Flagged filings shape: (61, 7)\n",
      "[{'ticker': 'STRD', 'cik': 1050446, 'form': '8-K', 'filingDate': Timestamp('2025-07-07 00:00:00'), 'url': 'https://www.sec.gov/Archives/edgar/data/1050446/0000950170-25-094137.txt', 'keywords': 'private placement', 'summary': \"MicroStrategy Inc. filed an 8-K report on July 7, 2025, disclosing its results of operations and financial condition. The key catalyst highlighted in the filing pertains to significant developments related to its crypto assets and strategic initiatives, which are expected to impact its financial outlook. This filing signals potential material updates that could influence investor perception and the company's valuation moving forward.\"}, {'ticker': 'STRD', 'cik': 1050446, 'form': '8-K', 'filingDate': Timestamp('2025-07-07 00:00:00'), 'url': 'https://www.sec.gov/Archives/edgar/data/1050446/0001193125-25-155918.txt', 'keywords': 'reverse stock split', 'summary': 'MicroStrategy Inc. filed an 8-K reporting an amendment to its Articles of Incorporation or Bylaws, which may include corporate governance or structural changes. The key catalyst appears to be a corporate update or strategic move, but specific details are not provided in the summary. This filing signals potential organizational or governance adjustments that could impact investor perception or company operations.'}, {'ticker': 'INO', 'cik': 1055726, 'form': '8-K', 'filingDate': Timestamp('2025-07-07 00:00:00'), 'url': 'https://www.sec.gov/Archives/edgar/data/1055726/0001193125-25-155830.txt', 'keywords': 'reverse stock split', 'summary': \"Inovio Pharmaceuticals announced the entry into a significant definitive agreement, which is likely to serve as a key catalyst for the company's growth trajectory. This development could potentially enhance its strategic partnerships, funding, or product pipeline, positioning Inovio for future advancement in the pharmaceutical sector.\"}]\n"
     ]
    },
    {
     "name": "stderr",
     "output_type": "stream",
     "text": [
      "/var/folders/8_/24p38t6d4dq83ykzx6mkclx00000gn/T/ipykernel_90901/2898305689.py:7: FutureWarning: YF.download() has changed argument auto_adjust default to True\n",
      "  hist = yf.download(ticker, start=date - timedelta(days=7), end=date + timedelta(days=5), progress=False)\n"
     ]
    },
    {
     "name": "stdout",
     "output_type": "stream",
     "text": [
      "Price history sample:\n",
      " Price           Close       High        Low       Open   Volume\n",
      "Ticker           STRD       STRD       STRD       STRD     STRD\n",
      "Date                                                           \n",
      "2025-06-30  89.750000  89.750000  87.559998  87.860001  1872200\n",
      "2025-07-01  89.779999  90.430000  89.250000  89.750000   420100\n",
      "2025-07-02  93.510002  95.764999  90.110001  90.250000   761500\n",
      "2025-07-03  95.250000  96.080002  94.169998  94.849998   218900\n",
      "2025-07-07  93.974998  96.150002  93.760002  95.480003   355900 \n",
      "…\n",
      " Price           Close       High        Low       Open  Volume\n",
      "Ticker           STRD       STRD       STRD       STRD    STRD\n",
      "Date                                                          \n",
      "2025-07-02  93.510002  95.764999  90.110001  90.250000  761500\n",
      "2025-07-03  95.250000  96.080002  94.169998  94.849998  218900\n",
      "2025-07-07  93.974998  96.150002  93.760002  95.480003  355900\n",
      "2025-07-08  92.800003  94.500000  92.750000  94.300003  378700\n",
      "2025-07-09  94.120003  94.199501  93.290001  93.290001  293958\n"
     ]
    }
   ],
   "source": [
    "# Inspect your filings DF\n",
    "print(\"Flagged filings shape:\", df.shape)\n",
    "print(df.head(3).to_dict(orient=\"records\"))  # show first 3 rows as dicts\n",
    "\n",
    "# Pull one history object so you can see it’s loading right\n",
    "ticker, date = df.iloc[0][\"ticker\"], df.iloc[0][\"filingDate\"]\n",
    "hist = yf.download(ticker, start=date - timedelta(days=7), end=date + timedelta(days=5), progress=False)\n",
    "print(\"Price history sample:\\n\", hist.head(), \"\\n…\\n\", hist.tail())"
   ]
  },
  {
   "cell_type": "code",
   "execution_count": 29,
   "id": "9ced0b8d",
   "metadata": {},
   "outputs": [
    {
     "name": "stderr",
     "output_type": "stream",
     "text": [
      "/var/folders/8_/24p38t6d4dq83ykzx6mkclx00000gn/T/ipykernel_90901/687763273.py:10: FutureWarning: YF.download() has changed argument auto_adjust default to True\n",
      "  hist = yf.download(ticker, start=start, end=end, progress=False)\n"
     ]
    },
    {
     "ename": "ValueError",
     "evalue": "The truth value of a Series is ambiguous. Use a.empty, a.bool(), a.item(), a.any() or a.all().",
     "output_type": "error",
     "traceback": [
      "\u001b[0;31m---------------------------------------------------------------------------\u001b[0m",
      "\u001b[0;31mValueError\u001b[0m                                Traceback (most recent call last)",
      "Cell \u001b[0;32mIn[29], line 3\u001b[0m\n\u001b[1;32m      1\u001b[0m price_rows \u001b[38;5;241m=\u001b[39m []\n\u001b[1;32m      2\u001b[0m \u001b[38;5;28;01mfor\u001b[39;00m _, row \u001b[38;5;129;01min\u001b[39;00m df\u001b[38;5;241m.\u001b[39miterrows():\n\u001b[0;32m----> 3\u001b[0m     price_rows\u001b[38;5;241m.\u001b[39mappend(\u001b[43mget_price_changes\u001b[49m\u001b[43m(\u001b[49m\u001b[43mrow\u001b[49m\u001b[43m[\u001b[49m\u001b[38;5;124;43m\"\u001b[39;49m\u001b[38;5;124;43mticker\u001b[39;49m\u001b[38;5;124;43m\"\u001b[39;49m\u001b[43m]\u001b[49m\u001b[43m,\u001b[49m\u001b[43m \u001b[49m\u001b[43mrow\u001b[49m\u001b[43m[\u001b[49m\u001b[38;5;124;43m\"\u001b[39;49m\u001b[38;5;124;43mfilingDate\u001b[39;49m\u001b[38;5;124;43m\"\u001b[39;49m\u001b[43m]\u001b[49m\u001b[43m)\u001b[49m)\n\u001b[1;32m      5\u001b[0m \u001b[38;5;66;03m# Construct a DataFrame with the same index as df\u001b[39;00m\n\u001b[1;32m      6\u001b[0m price_feats \u001b[38;5;241m=\u001b[39m pd\u001b[38;5;241m.\u001b[39mDataFrame(price_rows, index\u001b[38;5;241m=\u001b[39mdf\u001b[38;5;241m.\u001b[39mindex)\n",
      "Cell \u001b[0;32mIn[28], line 38\u001b[0m, in \u001b[0;36mget_price_changes\u001b[0;34m(ticker, filing_date)\u001b[0m\n\u001b[1;32m     36\u001b[0m vol_before   \u001b[38;5;241m=\u001b[39m hist[\u001b[38;5;124m\"\u001b[39m\u001b[38;5;124mClose\u001b[39m\u001b[38;5;124m\"\u001b[39m]\u001b[38;5;241m.\u001b[39miloc[\u001b[38;5;28mmax\u001b[39m(\u001b[38;5;241m0\u001b[39m, idx\u001b[38;5;241m-\u001b[39m\u001b[38;5;241m5\u001b[39m):idx]\u001b[38;5;241m.\u001b[39mstd()\n\u001b[1;32m     37\u001b[0m avg_vol_prior \u001b[38;5;241m=\u001b[39m hist[\u001b[38;5;124m\"\u001b[39m\u001b[38;5;124mVolume\u001b[39m\u001b[38;5;124m\"\u001b[39m]\u001b[38;5;241m.\u001b[39miloc[\u001b[38;5;28mmax\u001b[39m(\u001b[38;5;241m0\u001b[39m, idx\u001b[38;5;241m-\u001b[39m\u001b[38;5;241m5\u001b[39m):idx]\u001b[38;5;241m.\u001b[39mmean()\n\u001b[0;32m---> 38\u001b[0m \u001b[38;5;28;01mif\u001b[39;00m pd\u001b[38;5;241m.\u001b[39mnotna(avg_vol_prior) \u001b[38;5;129;01mand\u001b[39;00m avg_vol_prior \u001b[38;5;241m!=\u001b[39m \u001b[38;5;241m0\u001b[39m:\n\u001b[1;32m     39\u001b[0m     volume_change \u001b[38;5;241m=\u001b[39m hist[\u001b[38;5;124m\"\u001b[39m\u001b[38;5;124mVolume\u001b[39m\u001b[38;5;124m\"\u001b[39m]\u001b[38;5;241m.\u001b[39miloc[idx] \u001b[38;5;241m/\u001b[39m avg_vol_prior\n\u001b[1;32m     40\u001b[0m \u001b[38;5;28;01melse\u001b[39;00m:\n",
      "File \u001b[0;32m~/anaconda3/lib/python3.10/site-packages/pandas/core/generic.py:1527\u001b[0m, in \u001b[0;36mNDFrame.__nonzero__\u001b[0;34m(self)\u001b[0m\n\u001b[1;32m   1525\u001b[0m \u001b[38;5;129m@final\u001b[39m\n\u001b[1;32m   1526\u001b[0m \u001b[38;5;28;01mdef\u001b[39;00m \u001b[38;5;21m__nonzero__\u001b[39m(\u001b[38;5;28mself\u001b[39m) \u001b[38;5;241m-\u001b[39m\u001b[38;5;241m>\u001b[39m NoReturn:\n\u001b[0;32m-> 1527\u001b[0m     \u001b[38;5;28;01mraise\u001b[39;00m \u001b[38;5;167;01mValueError\u001b[39;00m(\n\u001b[1;32m   1528\u001b[0m         \u001b[38;5;124mf\u001b[39m\u001b[38;5;124m\"\u001b[39m\u001b[38;5;124mThe truth value of a \u001b[39m\u001b[38;5;132;01m{\u001b[39;00m\u001b[38;5;28mtype\u001b[39m(\u001b[38;5;28mself\u001b[39m)\u001b[38;5;241m.\u001b[39m\u001b[38;5;18m__name__\u001b[39m\u001b[38;5;132;01m}\u001b[39;00m\u001b[38;5;124m is ambiguous. \u001b[39m\u001b[38;5;124m\"\u001b[39m\n\u001b[1;32m   1529\u001b[0m         \u001b[38;5;124m\"\u001b[39m\u001b[38;5;124mUse a.empty, a.bool(), a.item(), a.any() or a.all().\u001b[39m\u001b[38;5;124m\"\u001b[39m\n\u001b[1;32m   1530\u001b[0m     )\n",
      "\u001b[0;31mValueError\u001b[0m: The truth value of a Series is ambiguous. Use a.empty, a.bool(), a.item(), a.any() or a.all()."
     ]
    }
   ],
   "source": [
    "price_rows = []\n",
    "for _, row in df.iterrows():\n",
    "    price_rows.append(get_price_changes(row[\"ticker\"], row[\"filingDate\"]))\n",
    "\n",
    "# Construct a DataFrame with the same index as df\n",
    "price_feats = pd.DataFrame(price_rows, index=df.index)\n",
    "\n",
    "# Merge back into df\n",
    "df = pd.concat([df, price_feats], axis=1)"
   ]
  },
  {
   "cell_type": "code",
   "execution_count": 24,
   "id": "ecbf8dd0",
   "metadata": {},
   "outputs": [
    {
     "ename": "KeyError",
     "evalue": "'pct_1d'",
     "output_type": "error",
     "traceback": [
      "\u001b[0;31m---------------------------------------------------------------------------\u001b[0m",
      "\u001b[0;31mKeyError\u001b[0m                                  Traceback (most recent call last)",
      "File \u001b[0;32m~/anaconda3/lib/python3.10/site-packages/pandas/core/indexes/base.py:3802\u001b[0m, in \u001b[0;36mIndex.get_loc\u001b[0;34m(self, key, method, tolerance)\u001b[0m\n\u001b[1;32m   3801\u001b[0m \u001b[38;5;28;01mtry\u001b[39;00m:\n\u001b[0;32m-> 3802\u001b[0m     \u001b[38;5;28;01mreturn\u001b[39;00m \u001b[38;5;28;43mself\u001b[39;49m\u001b[38;5;241;43m.\u001b[39;49m\u001b[43m_engine\u001b[49m\u001b[38;5;241;43m.\u001b[39;49m\u001b[43mget_loc\u001b[49m\u001b[43m(\u001b[49m\u001b[43mcasted_key\u001b[49m\u001b[43m)\u001b[49m\n\u001b[1;32m   3803\u001b[0m \u001b[38;5;28;01mexcept\u001b[39;00m \u001b[38;5;167;01mKeyError\u001b[39;00m \u001b[38;5;28;01mas\u001b[39;00m err:\n",
      "File \u001b[0;32m~/anaconda3/lib/python3.10/site-packages/pandas/_libs/index.pyx:138\u001b[0m, in \u001b[0;36mpandas._libs.index.IndexEngine.get_loc\u001b[0;34m()\u001b[0m\n",
      "File \u001b[0;32m~/anaconda3/lib/python3.10/site-packages/pandas/_libs/index.pyx:165\u001b[0m, in \u001b[0;36mpandas._libs.index.IndexEngine.get_loc\u001b[0;34m()\u001b[0m\n",
      "File \u001b[0;32mpandas/_libs/hashtable_class_helper.pxi:5745\u001b[0m, in \u001b[0;36mpandas._libs.hashtable.PyObjectHashTable.get_item\u001b[0;34m()\u001b[0m\n",
      "File \u001b[0;32mpandas/_libs/hashtable_class_helper.pxi:5753\u001b[0m, in \u001b[0;36mpandas._libs.hashtable.PyObjectHashTable.get_item\u001b[0;34m()\u001b[0m\n",
      "\u001b[0;31mKeyError\u001b[0m: 'pct_1d'",
      "\nThe above exception was the direct cause of the following exception:\n",
      "\u001b[0;31mKeyError\u001b[0m                                  Traceback (most recent call last)",
      "Cell \u001b[0;32mIn[24], line 1\u001b[0m\n\u001b[0;32m----> 1\u001b[0m df[\u001b[38;5;124m\"\u001b[39m\u001b[38;5;124mlabel_1d_up\u001b[39m\u001b[38;5;124m\"\u001b[39m] \u001b[38;5;241m=\u001b[39m \u001b[43mdf\u001b[49m\u001b[43m[\u001b[49m\u001b[38;5;124;43m\"\u001b[39;49m\u001b[38;5;124;43mpct_1d\u001b[39;49m\u001b[38;5;124;43m\"\u001b[39;49m\u001b[43m]\u001b[49m \u001b[38;5;241m>\u001b[39m\u001b[38;5;241m=\u001b[39m \u001b[38;5;241m0.05\u001b[39m\n",
      "File \u001b[0;32m~/anaconda3/lib/python3.10/site-packages/pandas/core/frame.py:3807\u001b[0m, in \u001b[0;36mDataFrame.__getitem__\u001b[0;34m(self, key)\u001b[0m\n\u001b[1;32m   3805\u001b[0m \u001b[38;5;28;01mif\u001b[39;00m \u001b[38;5;28mself\u001b[39m\u001b[38;5;241m.\u001b[39mcolumns\u001b[38;5;241m.\u001b[39mnlevels \u001b[38;5;241m>\u001b[39m \u001b[38;5;241m1\u001b[39m:\n\u001b[1;32m   3806\u001b[0m     \u001b[38;5;28;01mreturn\u001b[39;00m \u001b[38;5;28mself\u001b[39m\u001b[38;5;241m.\u001b[39m_getitem_multilevel(key)\n\u001b[0;32m-> 3807\u001b[0m indexer \u001b[38;5;241m=\u001b[39m \u001b[38;5;28;43mself\u001b[39;49m\u001b[38;5;241;43m.\u001b[39;49m\u001b[43mcolumns\u001b[49m\u001b[38;5;241;43m.\u001b[39;49m\u001b[43mget_loc\u001b[49m\u001b[43m(\u001b[49m\u001b[43mkey\u001b[49m\u001b[43m)\u001b[49m\n\u001b[1;32m   3808\u001b[0m \u001b[38;5;28;01mif\u001b[39;00m is_integer(indexer):\n\u001b[1;32m   3809\u001b[0m     indexer \u001b[38;5;241m=\u001b[39m [indexer]\n",
      "File \u001b[0;32m~/anaconda3/lib/python3.10/site-packages/pandas/core/indexes/base.py:3804\u001b[0m, in \u001b[0;36mIndex.get_loc\u001b[0;34m(self, key, method, tolerance)\u001b[0m\n\u001b[1;32m   3802\u001b[0m     \u001b[38;5;28;01mreturn\u001b[39;00m \u001b[38;5;28mself\u001b[39m\u001b[38;5;241m.\u001b[39m_engine\u001b[38;5;241m.\u001b[39mget_loc(casted_key)\n\u001b[1;32m   3803\u001b[0m \u001b[38;5;28;01mexcept\u001b[39;00m \u001b[38;5;167;01mKeyError\u001b[39;00m \u001b[38;5;28;01mas\u001b[39;00m err:\n\u001b[0;32m-> 3804\u001b[0m     \u001b[38;5;28;01mraise\u001b[39;00m \u001b[38;5;167;01mKeyError\u001b[39;00m(key) \u001b[38;5;28;01mfrom\u001b[39;00m \u001b[38;5;21;01merr\u001b[39;00m\n\u001b[1;32m   3805\u001b[0m \u001b[38;5;28;01mexcept\u001b[39;00m \u001b[38;5;167;01mTypeError\u001b[39;00m:\n\u001b[1;32m   3806\u001b[0m     \u001b[38;5;66;03m# If we have a listlike key, _check_indexing_error will raise\u001b[39;00m\n\u001b[1;32m   3807\u001b[0m     \u001b[38;5;66;03m#  InvalidIndexError. Otherwise we fall through and re-raise\u001b[39;00m\n\u001b[1;32m   3808\u001b[0m     \u001b[38;5;66;03m#  the TypeError.\u001b[39;00m\n\u001b[1;32m   3809\u001b[0m     \u001b[38;5;28mself\u001b[39m\u001b[38;5;241m.\u001b[39m_check_indexing_error(key)\n",
      "\u001b[0;31mKeyError\u001b[0m: 'pct_1d'"
     ]
    }
   ],
   "source": [
    "df[\"label_1d_up\"] = df[\"pct_1d\"] >= 0.05"
   ]
  },
  {
   "cell_type": "code",
   "execution_count": null,
   "id": "1900440b",
   "metadata": {},
   "outputs": [],
   "source": [
    "df[\"summary_length\"]       = df[\"summary\"].astype(str).apply(len)\n",
    "df[\"has_numbers_in_summary\"] = df[\"summary\"].astype(str).apply(lambda s: bool(re.search(r\"\\$\\d|\\d+%\", s)))\n",
    "df[\"num_keywords_matched\"] = df[\"keywords\"].astype(str).apply(lambda s: len(s.split(\";\")) if pd.notna(s) else 0)\n"
   ]
  },
  {
   "cell_type": "code",
   "execution_count": null,
   "id": "defce4fc",
   "metadata": {},
   "outputs": [],
   "source": [
    "df[\"backtest_date\"] = pd.Timestamp.today().normalize()"
   ]
  },
  {
   "cell_type": "code",
   "execution_count": null,
   "id": "6d788cb0",
   "metadata": {},
   "outputs": [],
   "source": [
    "df = df.dropna(subset=[\"pct_1d\",\"pct_3d\"])"
   ]
  },
  {
   "cell_type": "code",
   "execution_count": null,
   "id": "c30bacf0",
   "metadata": {},
   "outputs": [],
   "source": [
    "df.to_csv(\"Data/backtest_dataset.csv\", index=False)\n",
    "print(f\"✅ backtest_dataset.csv written with {len(df)} rows for backtest_date {df['backtest_date'].iloc[0].date()}\")"
   ]
  }
 ],
 "metadata": {
  "kernelspec": {
   "display_name": "Python 3 (ipykernel)",
   "language": "python",
   "name": "python3"
  },
  "language_info": {
   "codemirror_mode": {
    "name": "ipython",
    "version": 3
   },
   "file_extension": ".py",
   "mimetype": "text/x-python",
   "name": "python",
   "nbconvert_exporter": "python",
   "pygments_lexer": "ipython3",
   "version": "3.10.9"
  }
 },
 "nbformat": 4,
 "nbformat_minor": 5
}
