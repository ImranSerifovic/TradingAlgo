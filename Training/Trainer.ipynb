{
 "cells": [
  {
   "cell_type": "code",
   "execution_count": null,
   "id": "c89d90f8",
   "metadata": {},
   "outputs": [],
   "source": [
    "import pandas as pd\n",
    "\n",
    "df = pd.read_csv(\"master_labeled.csv\")\n",
    "df = df.dropna(subset=[\"summary\", \"label_1d_ext\"])  # remove rows without label or summary"
   ]
  },
  {
   "cell_type": "code",
   "execution_count": null,
   "id": "f04cf6f8",
   "metadata": {},
   "outputs": [],
   "source": [
    "from sklearn.preprocessing import LabelEncoder\n",
    "\n",
    "# Encode sector\n",
    "df[\"sector\"] = LabelEncoder().fit_transform(df[\"sector\"])\n",
    "\n",
    "# Convert has_numbers to int\n",
    "df[\"has_numbers\"] = df[\"has_numbers\"].astype(int)"
   ]
  }
 ],
 "metadata": {
  "language_info": {
   "name": "python"
  }
 },
 "nbformat": 4,
 "nbformat_minor": 5
}
